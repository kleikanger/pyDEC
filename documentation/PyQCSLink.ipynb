{
 "metadata": {
  "name": "",
  "signature": "sha256:bd655f94f32e6690e92768ea8bbd917fd1e6f95987fdf57dc41aae4663be0e2f"
 },
 "nbformat": 3,
 "nbformat_minor": 0,
 "worksheets": [
  {
   "cells": [
    {
     "cell_type": "markdown",
     "metadata": {},
     "source": [
      "#Python Library.\n",
      "\n",
      "##Brief description\n",
      "\n",
      "Works as a link between CP2K and LSDALTON, to generate MO's + Fock matrices with CP2K that can be ported to a DALTON simulation.\n",
      "\n",
      "##Functionality\n",
      "\n",
      "- Runs CP2K SCF routines to generate MO's. \n",
      "- Converts MO's to DALTON format. \n",
      "- Generates Basis input + system input (.mol files) to be sure that LSDALTON and CP2K runs with the same MO's.\n",
      "- Basis input formats\n",
      "    * DALTON\n",
      "    * CP2K\n",
      "- System Input Format\n",
      "    * DALTON\n",
      "    * CP2K (not implemented)"
     ]
    },
    {
     "cell_type": "code",
     "collapsed": false,
     "input": [
      "cd ~/Dropbox/phd/pyCode/pyDEC/"
     ],
     "language": "python",
     "metadata": {},
     "outputs": [
      {
       "output_type": "stream",
       "stream": "stdout",
       "text": [
        "/Users/leik/Dropbox/phd/pyCode/pyDEC\n"
       ]
      }
     ],
     "prompt_number": 1
    },
    {
     "cell_type": "markdown",
     "metadata": {},
     "source": [
      "##Porting basis files:\n",
      "Example: Basis STO-6G from DALTON to CP2K format."
     ]
    },
    {
     "cell_type": "code",
     "collapsed": false,
     "input": [
      "from basis import Basis\n",
      "basis = Basis()\n",
      "basis.read_basis_set('STO-3G', 'STO-3G', 'DALTON')  # inp: inputfile, basisname, inputformat\n",
      "basis.read_basis_set('STO-6G', 'STO-6G', 'DALTON')  # inp: inputfile, basisname, inputformat"
     ],
     "language": "python",
     "metadata": {},
     "outputs": [
      {
       "output_type": "stream",
       "stream": "stdout",
       "text": [
        "Reading basis from: STO-3G\n",
        "Reading basis from: STO-6G\n"
       ]
      }
     ],
     "prompt_number": 2
    },
    {
     "cell_type": "markdown",
     "metadata": {},
     "source": [
      "The basis sets 'STO-3G' and 'STO-6G' is now stored in the Basis object in a list of BasisSet objects.\n",
      "In the next line we write to file."
     ]
    },
    {
     "cell_type": "code",
     "collapsed": false,
     "input": [
      "basis.print_basis_sets('STO_3G+STO_6G', 'CP2K')  # inp: output filename, format"
     ],
     "language": "python",
     "metadata": {},
     "outputs": [
      {
       "output_type": "stream",
       "stream": "stdout",
       "text": [
        "Writing basis sets to file <STO_3G+STO_6G> in <CP2K> format.\n",
        "Basis set <STO-3G> written to file.\n",
        "Basis set <STO-6G> written to file.\n"
       ]
      }
     ],
     "prompt_number": 3
    },
    {
     "cell_type": "code",
     "collapsed": false,
     "input": [
      "!head -n26 STO-3G"
     ],
     "language": "python",
     "metadata": {},
     "outputs": [
      {
       "output_type": "stream",
       "stream": "stdout",
       "text": [
        "$Basis = STO-3G\r\n",
        "$\r\n",
        "$ Elements supported\r\n",
        "$ H He Li Be B C N O F Ne Na Mg Al Si P S Cl Ar K Ca Sc Ti V Cr Mn Fe Co Ni Cu \r\n",
        "$ Zn Ga Ge As Se Br Kr Rb Sr Y Zr Nb Mo Tc Rh Rh Pd Ag Cd \r\n",
        "$\r\n",
        "$  REFERENCE\r\n",
        "$ Elements      Contraction                       References                     \r\n",
        "$ H - He: (3s)         -> [1s]       W.J. Hehre, R.F. Stewart and J.A. Pople,    \r\n",
        "$ Li - Ne: (6s,3p)     -> [2s,1p]    J. Chem. Phys. 2657 (1969).                 \r\n",
        "$ Na - Ar: (9s,6p)     -> [3s,2p]    W.J. Hehre, R. Ditchfield, R.F. Stewart,    \r\n",
        "$                                    J.A. Pople, J. Chem. Phys.  2769 (1970).    \r\n",
        "$ K,Ca - : (12s,9p)    -> [4s,3p]    W.J. Pietro, B.A. Levy, W.J. Hehre and R.F. \r\n",
        "$ Ga - Kr                            Stewart, Inorg. Chem. 19, 2225 (1980). \r\n",
        "$ Sc - Zn: (12s,9p,3d) -> [4s,3p,1d] W.J. Pietro and W.J. Hehre, J. Comp. Chem.  \r\n",
        "$ Y - Cd: (15s,12p,6d) -> [5s,4p,2d] 4, 241 (1983).                              \r\n",
        "$***********************************************************************\r\n",
        "A 1\r\n",
        "$ HYDROGEN     (3S) -> [1S]                                      \r\n",
        "$ S-TYPE FUNCTIONS\r\n",
        "    3    1    0\r\n",
        "      3.4252509  0.15432897\r\n",
        "      0.6239137  0.53532814\r\n",
        "      0.1688554  0.44463454\r\n",
        "\r\n",
        "A 2\r\n"
       ]
      }
     ],
     "prompt_number": 4
    },
    {
     "cell_type": "code",
     "collapsed": false,
     "input": [
      "!head -n17 STO_3G+STO_6G"
     ],
     "language": "python",
     "metadata": {},
     "outputs": [
      {
       "output_type": "stream",
       "stream": "stdout",
       "text": [
        "#\r\n",
        "# CP2K input file.\r\n",
        "# This file is automatically generated by PROGNAME.\r\n",
        "#\r\n",
        "# ----------------- \r\n",
        "#\r\n",
        "H STO-3G \r\n",
        "1\r\n",
        "1 0 0 3 1 \r\n",
        "3.4252509      0.15432897     \r\n",
        "0.6239137      0.53532814     \r\n",
        "0.1688554      0.44463454     \r\n",
        "#\r\n",
        "# ----------------- \r\n",
        "#\r\n",
        "He STO-3G \r\n",
        "1\r\n"
       ]
      }
     ],
     "prompt_number": 5
    },
    {
     "cell_type": "markdown",
     "metadata": {},
     "source": [
      "##Load system information\n",
      "Loading system from LSDALTON .mol file."
     ]
    },
    {
     "cell_type": "code",
     "collapsed": false,
     "input": [
      "!cat H2.mol"
     ],
     "language": "python",
     "metadata": {},
     "outputs": [
      {
       "output_type": "stream",
       "stream": "stdout",
       "text": [
        "BASIS\r\n",
        "STO-3G Aux=Ahlrichs-Coulomb-Fit\r\n",
        "LDA molecular hessian without symmetry\r\n",
        "Ethane LDA molecular hessian without symmetry\r\n",
        "Atomtypes=1 Charge=0 angstrom \r\n",
        "charge=1.    atoms=2\r\n",
        "H     0.50000000000      0.0000000000     0.0000000000\r\n",
        "H     -0.50000000000      0.0000000000     0.0000000000\r\n",
        "a1 = 2.0 0.0 0.0 active\r\n",
        "a2 = 0.0 2.0 0.0 inactive\r\n",
        "a3 = 0.0 0.0 2.0 inactive\r\n",
        "\r\n"
       ]
      }
     ],
     "prompt_number": 6
    },
    {
     "cell_type": "code",
     "collapsed": false,
     "input": [
      "from System import System\n",
      "s = System()\n",
      "s.read_system_info('H2.mol', 'LSDALTON')"
     ],
     "language": "python",
     "metadata": {},
     "outputs": [
      {
       "output_type": "stream",
       "stream": "stdout",
       "text": [
        "Reading DALTON .mol file: H2.mol\n"
       ]
      }
     ],
     "prompt_number": 7
    },
    {
     "cell_type": "markdown",
     "metadata": {},
     "source": [
      "Result:"
     ]
    },
    {
     "cell_type": "code",
     "collapsed": false,
     "input": [
      "for x in s.atoms:\n",
      "    print('basis: ' + x.basisname, end=', ')\n",
      "    print('a: %s' % x.a, end=' ')\n",
      "    print('pos:', end=' '); print(x.position, end=', ')\n",
      "    print('ghost: %s' % x.ghost, end=', ')\n",
      "    print('charge: %s' % x.charge, end='\\n') \n",
      "print('latvec:')\n",
      "for x in s.latvec:\n",
      "    print(x)"
     ],
     "language": "python",
     "metadata": {},
     "outputs": [
      {
       "output_type": "stream",
       "stream": "stdout",
       "text": [
        "basis: STO-3G, a: 1 pos: [0.5, 0.0, 0.0], ghost: False, charge: 1.0\n",
        "basis: STO-3G, a: 1 pos: [-0.5, 0.0, 0.0], ghost: False, charge: 1.0\n",
        "latvec:\n",
        "[2.0, 0.0, 0.0]\n",
        "[0.0, 2.0, 0.0]\n",
        "[0.0, 0.0, 2.0]\n"
       ]
      }
     ],
     "prompt_number": 8
    },
    {
     "cell_type": "markdown",
     "metadata": {},
     "source": [
      "##Manipulating the MO's\n",
      "class MOs:\n",
      "- Read MO's from CP2K file.\n",
      "- Permute to DALTON format.\n",
      "- Print to DALTON input file."
     ]
    },
    {
     "cell_type": "code",
     "collapsed": false,
     "input": [
      "from MOs import MOs\n",
      "# o = MOinfo('He_bulk2-RESTART.wfn')\n",
      "o = MOs('Ne_bulk2-RESTART.wfn', s, basis)  # inp: input file (CP2K restart file)\n",
      "o.transform_cp2k_to_dalton()"
     ],
     "language": "python",
     "metadata": {},
     "outputs": [
      {
       "output_type": "stream",
       "stream": "stdout",
       "text": [
        "Reading binary file Ne_bulk2-RESTART.wfn.\n",
        "[10, 10, 11, 20]\n",
        "Writing binary file orbitals_in.u.\n"
       ]
      }
     ],
     "prompt_number": 9
    },
    {
     "cell_type": "markdown",
     "metadata": {},
     "source": [
      "The MO coefficients are read from file permuted to dalton order and written to orbitals_in.u. The permutations of the coefficients are found by calling:"
     ]
    },
    {
     "cell_type": "code",
     "collapsed": false,
     "input": [
      "perm = basis.get_mo_transformation('CP2K', 'DALTON', s.atoms)  # inp: format from, format to, __Atom objects\n",
      "print(perm)"
     ],
     "language": "python",
     "metadata": {},
     "outputs": [
      {
       "output_type": "stream",
       "stream": "stdout",
       "text": [
        "[0, 1]\n"
       ]
      }
     ],
     "prompt_number": 10
    },
    {
     "cell_type": "markdown",
     "metadata": {},
     "source": [
      "###Example with several basis sets:\n",
      "We use different basis sets for the atoms."
     ]
    },
    {
     "cell_type": "code",
     "collapsed": false,
     "input": [
      "!cat N2.mol"
     ],
     "language": "python",
     "metadata": {},
     "outputs": [
      {
       "output_type": "stream",
       "stream": "stdout",
       "text": [
        "ATOMBASIS\r\n",
        "LDA molecular hessian without symmetry\r\n",
        "Ethane LDA molecular hessian without symmetry\r\n",
        "Atomtypes=1 Charge=0 angstrom \r\n",
        "charge=10.    atoms=1    basis=aug-cc-pVTZ\r\n",
        "Ne     0.50000000000      0.0000000000     0.0000000000\r\n",
        "charge=10.    atoms=1    basis=STO-6G\r\n",
        "Ne     -0.50000000000      0.0000000000     0.0000000000\r\n",
        "a1 = 2.0 0.0 0.0 active\r\n",
        "a2 = 0.0 2.0 0.0 inactive\r\n",
        "a3 = 0.0 0.0 2.0 inactive\r\n",
        "\r\n"
       ]
      }
     ],
     "prompt_number": 11
    },
    {
     "cell_type": "markdown",
     "metadata": {},
     "source": [
      "Load the .mol file and the basis sets."
     ]
    },
    {
     "cell_type": "code",
     "collapsed": false,
     "input": [
      "systemN2 = System()\n",
      "systemN2.read_system_info('N2.mol', 'LSDALTON')"
     ],
     "language": "python",
     "metadata": {},
     "outputs": [
      {
       "output_type": "stream",
       "stream": "stdout",
       "text": [
        "Reading DALTON .mol file: N2.mol\n"
       ]
      }
     ],
     "prompt_number": 12
    },
    {
     "cell_type": "code",
     "collapsed": false,
     "input": [
      "basisN2 = Basis()\n",
      "basisN2.read_basis_set('aug-cc-pVTZ', 'aug-cc-pVTZ', 'DALTON')\n",
      "basisN2.read_basis_set('STO-6G', 'STO-6G', 'DALTON')"
     ],
     "language": "python",
     "metadata": {},
     "outputs": [
      {
       "output_type": "stream",
       "stream": "stdout",
       "text": [
        "Reading basis from: aug-cc-pVTZ\n",
        "Reading basis from: STO-6G\n"
       ]
      }
     ],
     "prompt_number": 13
    },
    {
     "cell_type": "markdown",
     "metadata": {},
     "source": [
      "The permutations from CP2K to DALTON MOs:"
     ]
    },
    {
     "cell_type": "code",
     "collapsed": false,
     "input": [
      "print(basisN2.get_mo_transformation('CP2K', 'DALTON', systemN2.atoms))"
     ],
     "language": "python",
     "metadata": {},
     "outputs": [
      {
       "output_type": "stream",
       "stream": "stdout",
       "text": [
        "[44, 45, 35, 7, 3, 43, 41, 42, 27, 25, 26, 6, 4, 5, 2, 0, 1, 36, 37, 38, 39, 40, 20, 21, 22, 23, 24, 8, 9, 10, 11, 12, 28, 29, 30, 31, 32, 33, 34, 13, 14, 15, 16, 17, 18, 19, 50, 46, 49, 47, 48]\n"
       ]
      }
     ],
     "prompt_number": 14
    },
    {
     "cell_type": "markdown",
     "metadata": {},
     "source": [
      "PS: Have printed the basis sets and manually checked that this is correct."
     ]
    },
    {
     "cell_type": "markdown",
     "metadata": {},
     "source": [
      "##Port MO's from CP2K to DALTON:\n",
      "We have the files:"
     ]
    },
    {
     "cell_type": "code",
     "collapsed": false,
     "input": [
      "cd ~/phd/CP2K_tests/convertMOs_test/"
     ],
     "language": "python",
     "metadata": {},
     "outputs": [
      {
       "output_type": "stream",
       "stream": "stdout",
       "text": [
        "/Users/leik/phd/CP2K_tests/convertMOs_test\n"
       ]
      }
     ],
     "prompt_number": 15
    },
    {
     "cell_type": "code",
     "collapsed": false,
     "input": [
      "ls"
     ],
     "language": "python",
     "metadata": {},
     "outputs": [
      {
       "output_type": "stream",
       "stream": "stdout",
       "text": [
        "CP2K_aug-cc-pvZT      MOLECULE.INP          t_c_g.dat\r\n",
        "He2.mol               aug-cc-pVTZ           transformMOS.py\r\n",
        "He_bulk2-RESTART.wfn  localized_orbitals.u\r\n",
        "LSDALTON.INP          orbitals_in.u\r\n"
       ]
      }
     ],
     "prompt_number": 16
    },
    {
     "cell_type": "markdown",
     "metadata": {},
     "source": [
      "We look at the system:"
     ]
    },
    {
     "cell_type": "code",
     "collapsed": false,
     "input": [
      "!cat He2.mol"
     ],
     "language": "python",
     "metadata": {},
     "outputs": [
      {
       "output_type": "stream",
       "stream": "stdout",
       "text": [
        "BASIS\r\n",
        "aug-cc-pVTZ\r\n",
        "\r\n",
        "\r\n",
        "Atomtypes=1\r\n",
        "Charge=2. Atoms=2\r\n",
        "He     0.50000000000      0.0000000000     0.0000000000\r\n",
        "He     -0.50000000000      0.0000000000     0.0000000000\r\n"
       ]
      }
     ],
     "prompt_number": 17
    },
    {
     "cell_type": "markdown",
     "metadata": {},
     "source": [
      "- We first run our code to generate the basis set input. NB: It is a good idea to generate both CP2K and DALTON files to make sure that the order of the orbitals is correct. The ao's does not need to be set up in any certain order, and this could result in wrong MO'permutation arrays because of the way the code is set up. \n",
      "- Molecular calculation with CP2K: \n",
      " - Note that we need to add the keyword ...:DFT:ADDED_MOS 44 to the CP2K input. This keyword is needed to calculate virtual MO's (2 occ + 44 virt) and write them to restart.\n",
      " - We run CP2K to get the restart file He_bulk2-RESTART.wfn from the CP2K simulation.\n",
      "- To transform MO's to dalton format we run the transfomMOs.py script."
     ]
    },
    {
     "cell_type": "code",
     "collapsed": false,
     "input": [
      "!cat transformMOS.py"
     ],
     "language": "python",
     "metadata": {},
     "outputs": [
      {
       "output_type": "stream",
       "stream": "stdout",
       "text": [
        "import sys\r\n",
        "sys.path.append('/Users/leik/Dropbox/phd/pyCode/pyDEC/')\r\n",
        "\r\n",
        "from MOs import MOs\r\n",
        "from System import System\r\n",
        "from basis import Basis\r\n",
        "\r\n",
        "basis = Basis()\r\n",
        "basis.read_basis_set('aug-cc-pVTZ', 'aug-cc-pVTZ', 'DALTON')\r\n",
        "\r\n",
        "system = System()\r\n",
        "system.read_system_info('He2.mol', 'LSDALTON')\r\n",
        "\r\n",
        "o = MOs('He_bulk2-RESTART.wfn', system, basis)\r\n",
        "o.transform_cp2k_to_dalton()\r\n"
       ]
      }
     ],
     "prompt_number": 18
    },
    {
     "cell_type": "markdown",
     "metadata": {},
     "source": [
      "We then run LSDALTON with the following input to calculate the molecular orbitals"
     ]
    },
    {
     "cell_type": "code",
     "collapsed": false,
     "input": [
      "!cat LSDALTON.INP"
     ],
     "language": "python",
     "metadata": {},
     "outputs": [
      {
       "output_type": "stream",
       "stream": "stdout",
       "text": [
        "**WAVE FUNCTION\r\n",
        ".HF\r\n",
        "**LOCALIZE ORBITALS\r\n",
        ".PSM\r\n",
        "1 1\r\n",
        ".Only Loc\r\n",
        "*END OF INPUT\r\n"
       ]
      }
     ],
     "prompt_number": 19
    }
   ],
   "metadata": {}
  }
 ]
}